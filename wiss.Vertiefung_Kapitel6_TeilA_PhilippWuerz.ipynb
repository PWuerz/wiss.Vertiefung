{
 "cells": [
  {
   "cell_type": "markdown",
   "source": "#### 1.Intro – ein Einfacher Agent & Die Einheiten von MicroRTS",
   "metadata": {
    "tags": [],
    "cell_id": "00000-d94a2aab-5c87-4278-a4b0-629023d3f868",
    "deepnote_app_coordinates": {
     "x": 0,
     "y": 30,
     "w": 12,
     "h": 5
    },
    "deepnote_cell_type": "markdown"
   }
  },
  {
   "cell_type": "code",
   "metadata": {
    "tags": [],
    "cell_id": "00000-00cad52f-a694-4022-9b51-e5206cc56c08",
    "deepnote_to_be_reexecuted": false,
    "source_hash": "7232e3fd",
    "execution_start": 1636642657930,
    "execution_millis": 33,
    "deepnote_app_coordinates": {
     "x": 0,
     "y": null,
     "w": 12,
     "h": 5
    },
    "deepnote_cell_type": "code"
   },
   "source": "public class RandomAI extends AI {    \n    public RandomAI(UnitTypeTable utt) {\n    }\n    \n    @Override\n    public void reset() {\n    }\n\n    @Override\n    public AI clone() {\n        return new RandomAI();\n    }\n\n    @Override\n    public PlayerAction getAction(int player, GameState gs) {\n        try {\n            if (!gs.canExecuteAnyAction(player)) return new PlayerAction();\n            PlayerActionGenerator pag = new PlayerActionGenerator(gs, player);\n            return pag.getRandom();\n        }catch(Exception e) {\n            return new PlayerAction();\n        }\n    }\n\n} ",
   "execution_count": null,
   "outputs": [
    {
     "output_type": "error",
     "ename": "SyntaxError",
     "evalue": "invalid syntax (<ipython-input-1-b5afe3394bb5>, line 1)",
     "traceback": [
      "\u001b[0;36m  File \u001b[0;32m\"<ipython-input-1-b5afe3394bb5>\"\u001b[0;36m, line \u001b[0;32m1\u001b[0m\n\u001b[0;31m    public class RandomAI extends AI {\u001b[0m\n\u001b[0m               ^\u001b[0m\n\u001b[0;31mSyntaxError\u001b[0m\u001b[0;31m:\u001b[0m invalid syntax\n"
     ]
    }
   ]
  },
  {
   "cell_type": "markdown",
   "source": "Zunächst schauen wir uns einfachere Agenten an. Komplexere Agenten besitzen neben allen Sachen die auch einfachere Agenten besitzen, noch deutlich komplexere Mechaniken, auf die im weiteren Verlauf noch eingegangen wird. Die einfachsten Agenten von MicroRTS sind ziemlich übersichtlich. Als Beispiel wird der Agenten **RandomAI** genutzt, der nur Random-Aktionen auswählen kann. Sofort zu erkennen sind einige überladene Funktionen, sowie eine Erweiterung des Agenten durch die **abstrakte Klasse AI**. AI ist die **Basisklasse für jeden MicroRTS-Agenten**, entweder direkt wie bei RandomAI, oder indirekt, über andere AI-Basisklassen, wie bei komplexeren Agenten. Die interessanteste Funktion bei allen Agenten ist die Funktion **public PlayerAction getAction (int player, GameState gs)**. Diese Funktion ist bei allen Agenten die Funktion die die verschiedenen Eigenschaften, Verhaltensweisen und Taktiken des Agenten, sowie den GameState miteinander verknüpft.",
   "metadata": {
    "tags": [],
    "cell_id": "00001-7eda899d-07cd-47f2-940b-36439f6a83c1",
    "deepnote_app_coordinates": {
     "x": 0,
     "y": 6,
     "w": 12,
     "h": 5
    },
    "deepnote_cell_type": "markdown"
   }
  },
  {
   "cell_type": "code",
   "metadata": {
    "tags": [],
    "cell_id": "00002-c8ac1a9c-0cd5-4993-9e00-05f0b11f0e7d",
    "deepnote_app_coordinates": {
     "x": 0,
     "y": 12,
     "w": 12,
     "h": 5
    },
    "deepnote_cell_type": "code"
   },
   "source": "public abstract class AI {\n    public abstract void reset();\n\n    public void reset(UnitTypeTable utt)  {reset();}\n\n    public abstract PlayerAction getAction(int player, GameState gs) throws Exception;\n\n    public abstract AI clone();\n\n    public abstract List<ParameterSpecification> getParameters();\n\n    public void preGameAnalysis(GameState gs, long milliseconds) throws Exception{}\n\n    public void gameOver(int winner) throws Exception{}\n}",
   "execution_count": null,
   "outputs": []
  },
  {
   "cell_type": "markdown",
   "source": "In der AI-Basisklasse sind neben einigen Grundfunktionen, einige Funktionalitäten verpackt. Beispielsweise deklariert diese Abstrakte Klasse wichtige Funktionen wie getAction. Zwei Klassen sind bei erster Sicht sofort zu erkennen. Innerhalb des Konstruktors und der reset-Funktion wird die **Klasse UnitTypeTable** genutzt, und die Funktion **getAction** nutzt den **GameState**, sowie als Return-Typ die Klasse **PlayerAction**. Zusätzlich existiert eine Klasse Namens **ParameterSpecification**. Zunächst das UnitTypeTable.",
   "metadata": {
    "tags": [],
    "cell_id": "00003-086c5f3b-e59b-45f9-ac18-ab4f2d527b98",
    "deepnote_app_coordinates": {
     "x": 0,
     "y": 18,
     "w": 12,
     "h": 5
    },
    "deepnote_cell_type": "markdown"
   }
  },
  {
   "cell_type": "code",
   "metadata": {
    "tags": [],
    "cell_id": "00004-86a49653-717e-4a46-8b2b-f1287d789e9a",
    "deepnote_app_coordinates": {
     "x": 0,
     "y": 24,
     "w": 12,
     "h": 5
    },
    "deepnote_cell_type": "code"
   },
   "source": "public class UnitTypeTable  {\n...\n    List<UnitType> unitTypes = new ArrayList<>();\n...\n    public void setUnitTypeTable(int version, int crs) {\n    ...\n    // Create the unit types:\n        // RESOURCE:\n        UnitType resource = new UnitType();\n        resource.name = \"Resource\";\n        resource.isResource = true;\n        resource.isStockpile = false;\n        resource.canHarvest = false;\n        resource.canMove = false;\n        resource.canAttack = false;\n        resource.sightRadius = 0;\n        addUnitType(resource);     \n        // BASE:\n        ...\n        // BARRACKS: \n        ...\n        // WORKER: \n        ...\n        // LIGHT: \n        ...\n        // HEAVY: \n        ...\n        // RANGED: \n        ...\n    }\n    ...\n}",
   "execution_count": null,
   "outputs": []
  },
  {
   "cell_type": "markdown",
   "source": "Das **UnitTypeTable** speichert die Einheitentypen, die es im Spiel geben kann. Sie bestimmt auch die Eigenschaften der einzelnen Einheitentypen. Das UnitTypeTable bestimmt also das Gleichgewicht des Spiels (also wie stark Einheiten sind). Neben Funktionen, wie das Angebot ein UnitTypeTable per XML zu importieren oder zu exportieren und eine Menge weiterer Eigenschaften, sind die wichtigsten Funktionen von **void setUnitTypeTable (int version, int crs)**. Wie bereits an der Tabelle zu erkennen, existieren vorgebaute **UnitType** wie Worker, Base und Ressourcen, die abgebaut werden können. Als Entwickler kann man auch eigene Units einführen. Dabei ist jeder ein UnitType innerhalb der Klassenstruktur des Typen UnitType. Man kann also einfacher sagen das UnitTypeTable ist nichts Weiteres als **eine Array-Liste des Typen UnitType mit zusätzlichen Eigenschaften und Funktionalitäten**.",
   "metadata": {
    "tags": [],
    "cell_id": "00006-c59a8654-915d-4eee-8dc3-d23891783852",
    "deepnote_app_coordinates": {
     "x": 0,
     "y": 36,
     "w": 12,
     "h": 5
    },
    "deepnote_cell_type": "markdown"
   }
  },
  {
   "cell_type": "code",
   "metadata": {
    "tags": [],
    "cell_id": "00007-c5df3f21-360a-4a8e-a719-7bfcd065cd8c",
    "deepnote_app_coordinates": {
     "x": 0,
     "y": 42,
     "w": 12,
     "h": 5
    },
    "deepnote_cell_type": "code"
   },
   "source": "public class UnitType {\n    public int ID = 0; \n    public String name;\n    public int cost = 1;\n    public int hp = 1;\n    public int minDamage = 1;\n    public int maxDamage = 1;\n    public int attackRange = 1;\n    public int produceTime = 10, \n               moveTime = 10, \n               attackTime = 10, \n               harvestTime = 10, \n               returnTime = 10;\n    ...\n    public boolean canMove = true;  \n    public boolean canAttack = true;  \n    public ArrayList<UnitType> produces = new ArrayList<>();\n    public ArrayList<UnitType> producedBy = new ArrayList<>();\n    ...\n    public void produces(UnitType ut) \n    {\n        produces.add(ut);\n        ut.producedBy.add(this);\n    }\n...\n}",
   "execution_count": null,
   "outputs": []
  },
  {
   "cell_type": "markdown",
   "source": "Die Klasse **UnitType** definiert mit seinen vielen Eigenschaften den abstrakten Typ einer Einheit. Neben den **Eigenschaften** wie Namen, hat diese Klasse **boolesche Eigenschaften**. Ob sich diese Einheit beispielsweise bewegen kann, sowie auch **Array Listen oder was diese Einheit für andere Einheiten produzieren** kann. Diese Klasse beinhaltet auch einige Funktionalitäten XML und JSON Dateienimportieren und exportieren zu können und diese zu Updaten. Jeder **Unit** wird genau einer UnitType zugesprochen. ",
   "metadata": {
    "tags": [],
    "cell_id": "00008-b3f0b435-da7a-4e58-aa39-0ed7ec3b9484",
    "deepnote_app_coordinates": {
     "x": 0,
     "y": 48,
     "w": 12,
     "h": 5
    },
    "deepnote_cell_type": "markdown"
   }
  },
  {
   "cell_type": "code",
   "metadata": {
    "tags": [],
    "cell_id": "00009-17b0a5b4-e214-4007-8235-0d66235ae098",
    "deepnote_app_coordinates": {
     "x": 0,
     "y": 54,
     "w": 12,
     "h": 5
    },
    "deepnote_cell_type": "code"
   },
   "source": "public class Unit implements Serializable {\n    UnitType type;\n    public static long next_ID = 0;\n    long ID;\n    int player;\n    int x, y;\n    int resources;\n    int hitpoints = 0;\n    ...\n    public boolean isIdle(GameState s) {\n        UnitAction ua = s.getUnitAction(this);\n        return ua == null;\n    }\n\n    public boolean canExecuteAction(UnitAction ua, GameState gs) {\n        List<UnitAction> l = getUnitActions(gs, ua.ETA(this));\n        return l.contains(ua);\n    }\n\n    public List<UnitAction> getUnitActions(GameState s, int noneDuration);\n    ...\n}",
   "execution_count": null,
   "outputs": []
  },
  {
   "cell_type": "markdown",
   "source": "Die Klasse **Unit** stellt die Instanz einer beliebigen Einheit im Spiel dar. Sie definiert wie oben genannt, welchen Typ diese Einheit hat, zu welchem Spieler sie gehört, welche Position diese auf dem Spielfeld einnimmt, sowie weitere Eigenschaften. Neben vielen Hilfsfunktionen, sowie der Möglichkeit per XML zu importieren und zu exportieren sind die folgenden zwei Funktionen die wichtigsten dieser Klasse:   \n\n1. public List<UnitAction> getUnitActions(GameState s, int noneDuration)\n2. public boolean canExecuteAction(UnitAction ua, GameState gs)\n\nUm diese Funktionen nachvollziehen zu können muss zunächst definiert werden, **was eine Aktion im Kontext von MicroRTS** überhaupt bedeutet.\n\n<br>\n<br>\n\n#### 2. Aktionen für MicroRTS – Ein Abstraktes Aktion Layer",
   "metadata": {
    "tags": [],
    "cell_id": "00010-3b2fefd2-bfba-4639-a26d-cd63b22af704",
    "deepnote_app_coordinates": {
     "x": 0,
     "y": 60,
     "w": 12,
     "h": 5
    },
    "deepnote_cell_type": "markdown"
   }
  },
  {
   "cell_type": "code",
   "metadata": {
    "tags": [],
    "cell_id": "00011-b3b24958-7818-469a-a5a1-2ba0467dc393",
    "deepnote_app_coordinates": {
     "x": 0,
     "y": 66,
     "w": 12,
     "h": 5
    },
    "deepnote_cell_type": "code"
   },
   "source": "public abstract class AbstractAction {\n    \n    Unit unit;\n    \n    public AbstractAction(Unit a_unit) {\n        unit = a_unit;\n    }\n    ...\n    public abstract boolean completed(GameState pgs);\n    \n    public UnitAction execute(GameState pgs){\n    \treturn execute(pgs,null);\n    }\n    ...\n    public abstract UnitAction execute(GameState pgs, ResourceUsage ru);",
   "execution_count": null,
   "outputs": []
  },
  {
   "cell_type": "markdown",
   "source": "Wie beim vorherigen Teil zu erkennen ist, hat zunächst jede Unit eine Menge von **UnitActions**, die am Ende eine **Teilmenge der PlayerActions des Agenten** sind. Wie wird eine Abstrakte Aktion in MicroRTS definiert? Als einzige Eigenschaft hat die **Klasse AbstractAction** eine Instanz einer Unit. Im Allgemeinen kann man zwei wichtige Funktionen erkennen:\n\n1. public abstract UnitAction execute(GameState pgs, ResourceUsage ru)\n2. public abstract boolean completed(GameState pgs)\n\nDie Funktion execute(…) definiert, **wie eine bestimmte Aktion auf der Gameoberfläche ausgeführt** wird.  Dagegen definiert die Funktion completed(…) **ob eine Aktion beendet worden ist**. Im Folgenden Bereich kann dies anhand einer **expliziten Aktion Move** nachvollziehen.\n",
   "metadata": {
    "tags": [],
    "cell_id": "00012-833f9a9b-acb8-4c1e-833c-74f29e4cbb08",
    "deepnote_app_coordinates": {
     "x": 0,
     "y": 72,
     "w": 12,
     "h": 5
    },
    "deepnote_cell_type": "markdown"
   }
  },
  {
   "cell_type": "code",
   "metadata": {
    "tags": [],
    "cell_id": "00013-a30e1623-a4da-4220-96d1-0f163a366820",
    "deepnote_app_coordinates": {
     "x": 0,
     "y": 78,
     "w": 12,
     "h": 5
    },
    "deepnote_cell_type": "code"
   },
   "source": "public class Move extends AbstractAction {\n\n    int x,y;\n    PathFinding pf;\n\n    \n    public Move(Unit u, int a_x, int a_y, PathFinding a_pf) {\n        super(u);\n        x = a_x;\n        y = a_y;\n        pf = a_pf;\n    }\n    \n    public boolean completed(GameState gs) {\n        return unit.getX() == x && unit.getY() == y;\n    }\n    ...\n    public UnitAction execute(GameState gs, ResourceUsage ru) {\n        PhysicalGameState pgs = gs.getPhysicalGameState();\n        UnitAction move = pf.findPath(unit, x+y*pgs.getWidth(), gs, ru);\n        if (move!=null && gs.isUnitActionAllowed(unit, move)) return move;\n        return null;\n    }\n}",
   "execution_count": null,
   "outputs": []
  },
  {
   "cell_type": "markdown",
   "source": "Zunächst stellt sich die Frage welche Eigenschaften, für eine **Move-Aktion** gebraucht werden. Da sich bei **Move die Koordinaten der Einheit ändert sind die X und Y Koordinaten** als Eigenschaften, die die Koordinaten nach einer Bewegungsaktion halten, zwingend nötig. Beispielsweise die Attack-Aktion benötigt ein Angriffsziel was immer eine Unit sein wird. Am Beispiel von Move können auch execute und completed besser verstanden werden. In completed von Move wird nur getestet, ob die Unit, die in der super-Klasse gehalten wird, dieselben X und Y Koordinaten besitzt, wie die Klasse Move. Bei execute hingegen wird zunächst der **GameState** abgefragt, genauer der **PhysicalGameState**. Dann wird mithilfe des **Pathfinding** Algorithmus (Standard A*) die beste Position auf der Karte ausgesucht. Falls eine Position auf der Karte gefunden wurde, und diese auch gültig ist, gibt die Funktion eine **UnitAction** zurück , sonst null. Wichtigste Funktionen für die Aktionsfindung werden in dieser Klasse definiert.",
   "metadata": {
    "tags": [],
    "cell_id": "00014-147de63e-ad4f-46b1-b26f-45959e36b864",
    "deepnote_app_coordinates": {
     "x": 0,
     "y": 84,
     "w": 12,
     "h": 5
    },
    "deepnote_cell_type": "markdown"
   }
  },
  {
   "cell_type": "code",
   "metadata": {
    "tags": [],
    "cell_id": "00015-1bbdaff2-5e73-4a30-9962-465a1b172006",
    "deepnote_app_coordinates": {
     "x": 0,
     "y": 114,
     "w": 12,
     "h": 5
    },
    "deepnote_cell_type": "code"
   },
   "source": "public class UnitAction {\n    //codierung der Aktionstypen\n    public static final int TYPE_NONE = 0;\n    public static final int TYPE_MOVE = 1;\n    public static final int TYPE_HARVEST = 2;\n    public static final int TYPE_RETURN = 3;\n    public static final int TYPE_PRODUCE = 4;\n    public static final int TYPE_ATTACK_LOCATION = 5;\n    public static final int NUMBER_OF_ACTION_TYPES = 6;\n    public static String actionName[] = {\n        \"wait\", \"move\", \"harvest\", \"return\", \"produce\", \"attack_location\"\n    };\n\n    //codierung der Bewegung\n    public static final int DIRECTION_NONE = -1;\n    public static final int DIRECTION_UP = 0;\n    public static final int DIRECTION_RIGHT = 1;\n    public static final int DIRECTION_DOWN = 2;\n    public static final int DIRECTION_LEFT = 3;\n    public static final String DIRECTION_NAMES[] = {\"up\", \"right\", \"down\", \"left\"};\n    public static final int DIRECTION_OFFSET_X[] = {0, 1, 0, -1};\n    public static final int DIRECTION_OFFSET_Y[] = {-1, 0, 1, 0};\n    int parameter = DIRECTION_NONE; //direction & duration\n\n    // weitere wichtige Eigenschaften für das erstellen einer UnitAction\n    int x = 0, y = 0;      // X und Y Koordinate einer Attack-Location\n    UnitType unitType;     // UnitType der für eine Train-Aktion gebraucht wird\n    ResourceUsage r_cache; // Menge der mit dieser Aktion verbundenen Ressourcen\n    ...\n    public UnitAction(int a_type, int a_x, int a_y) {\n        type = a_type;\n        x = a_x;\n        y = a_y;\n    }\n    ...\n    public ResourceUsage resourceUsage(Unit u, PhysicalGameState pgs) {\n        ...\n    }\n    public int ETA(Unit u) {\n        switch (type) {\n            case TYPE_NONE:\n                return parameter;\n            case TYPE_MOVE:\n                return u.getMoveTime();\n            case TYPE_ATTACK_LOCATION:\n                return u.getAttackTime();\n            case TYPE_HARVEST:\n                return u.getHarvestTime();\n            case TYPE_RETURN:\n                return u.getMoveTime();\n            case TYPE_PRODUCE:\n                return unitType.produceTime;\n        }\n        return 0;\n    }\n\n    public void execute(Unit u, GameState s) {\n        PhysicalGameState pgs = s.getPhysicalGameState();\n        switch (type) {\n            case TYPE_NONE:\n                break;\n\n            case TYPE_MOVE:\n                switch (parameter) {\n                    case DIRECTION_UP:\n                        u.setY(u.getY() - 1);\n                        break;\n                    case DIRECTION_RIGHT:\n                        u.setX(u.getX() + 1);\n                        break;\n                    case DIRECTION_DOWN:\n                        u.setY(u.getY() + 1);\n                        break;\n                    case DIRECTION_LEFT:\n                        u.setX(u.getX() - 1);\n                        break;\n                }\n                break;\n            case TYPE_ATTACK_LOCATION:\n            ...\n            case TYPE_HARVEST:\n            ...\n            case TYPE_RETURN:\n            ...\n            case TYPE_PRODUCE:\n            ...   \n        }\n        break;\n    }\n    ...\n}",
   "execution_count": null,
   "outputs": []
  },
  {
   "cell_type": "markdown",
   "source": "Wie bereits an der Tabelle im zweiten Kapitel zu erkennen, werden die verschiedenen UnitAction codiert (string und int). Beispielsweise ist die UnitAction Move 1, und der Versuch auf eine bestimmte Location anzugreifen 6. Desweitern wird auch die Richtung bei Bewegung der Einheiten also up, down, right und left codiert (String und int). Dabei entsprechen die Indizes den Konstanten, die in dieser Klasse verwendet werden. Der durch die Bewegungsrichtung verursachter Offset wird zuletzt ebenfalls definiert. **Die 5 Konstruktoren stehen dabei für die 5 verschiedenen Aktionen**. Beispielsweise UnitTyp und Koordinaten für eine Train-Aktion. Neben Funktionalität zum Importieren und Exportieren von XML und JSON Dateien definiert auch diese Klasse wieviel Ressourcen für diese UnitAction gebraucht werden. Die beiden Wichtigen Funktion in dieser Klasse sind **public int ETA (Unit u)** und **public void execute (Unit u, GameState s)**. Die Funktion ETA gibt dabei die geschätzte Zeit des Abschlusses dieser Aktion zurück. Die Funktion execute nimmt dabei eine wichtige Rolle ein. Es wird zunächst geschaut welche UnitAction vorliegt. Bei einer Bewegung beispielsweise befindet man sich im Case TYPE_MOVE. Je nachdem in welche Richtung die Einheit die Move-Aktion ausführen will, werden vier weitere Cases für die Bewegungsrichtung ausgewählt. Auch für den Spieler gibt es einen Aktionsraum, dieser ist in der Klasse **PlayerAction** gekapselt.",
   "metadata": {
    "tags": [],
    "cell_id": "00016-013d7829-db38-4483-92f2-4ed5574fd68d",
    "deepnote_app_coordinates": {
     "x": 0,
     "y": 120,
     "w": 12,
     "h": 5
    },
    "deepnote_cell_type": "markdown"
   }
  },
  {
   "cell_type": "code",
   "metadata": {
    "tags": [],
    "cell_id": "00017-1f44d245-aadd-40a7-84be-cad3c42ba00f",
    "deepnote_app_coordinates": {
     "x": 0,
     "y": 126,
     "w": 12,
     "h": 5
    },
    "deepnote_cell_type": "code"
   },
   "source": "public class PlayerAction {\n    List<Pair<Unit,UnitAction>> actions = new LinkedList<>();\n    ResourceUsage r = new ResourceUsage();// Stellt die von der PlayerAction verwendeten Ressourcen dar\n\n    public PlayerAction merge(PlayerAction a) {\n        PlayerAction merge = new PlayerAction();\n        merge.actions.addAll(actions);\n        merge.actions.addAll(a.actions);\n        merge.r = r.mergeIntoNew(a.r);\n        \n        return merge;\n    }\n    ...\n}",
   "execution_count": null,
   "outputs": []
  },
  {
   "cell_type": "markdown",
   "source": "Die **Klasse PlayerAction** verwaltet eine Liste von **Paaren aus Units und UnitActions**. Des Weiteren hat diese Klasse noch einiges an Funktionalität. Der erste Teil verwaltet die Menge der Aktionen, ob Non-Aktionen in der Liste sind. Sie weiß auch über eine andere Funktion, wie viele andere Aktionen in der Liste sind. Falls eine Unit keine Aktion zugewiesen bekommen hat, wird fillWithNones() diese mit Non-Aktionen befüllen. Eine weitere wichtige Funktion für die späteren Aktionsmenge ist die Funktion merge, die zwei PlayerAction zu einer kombiniert (auch von den Ressourcen). Jetzt muss dieses **Konstrukt aus Einheiten und Aktion mit den Agenten zu einem Layer** zusammengeführt werden. Dafür wird als Grundlage die **Klasse AbstractionLayerAI** genutzt.",
   "metadata": {
    "tags": [],
    "cell_id": "00018-08f29357-edb9-46f0-b5b1-b07499bb87d1",
    "deepnote_app_coordinates": {
     "x": 0,
     "y": 132,
     "w": 12,
     "h": 5
    },
    "deepnote_cell_type": "markdown"
   }
  },
  {
   "cell_type": "code",
   "metadata": {
    "tags": [],
    "cell_id": "00015-9678a2c8-2ff5-470c-9d20-f12069eb0901",
    "deepnote_app_coordinates": {
     "x": 0,
     "y": 90,
     "w": 12,
     "h": 5
    },
    "deepnote_cell_type": "code"
   },
   "source": "public abstract class AbstractionLayerAI extends AIWithComputationBudget {\n    protected HashMap<Unit, AbstractAction> actions = new LinkedHashMap<>();\n    protected PathFinding pf;\n    protected GameState lastGameState;\n    ...\n    public void move(Unit u, int x, int y) {\n        actions.put(u, new Move(u, x, y, pf));\n    }\n    public void train(Unit u, UnitType unit_type) {\n        actions.put(u, new Train(u, unit_type));\n    }\n    public void build(Unit u, UnitType unit_type, int x, int y) {\n        actions.put(u, new Build(u, unit_type, x, y, pf));\n    }\n    public void harvest(Unit u, Unit target, Unit base) {\n        actions.put(u, new Harvest(u, target, base, pf));\n    }\n    public void attack(Unit u, Unit target) {\n        actions.put(u, new Attack(u, target, pf));\n    }\n    public void idle(Unit u) {\n        actions.put(u, new Idle(u));\n    }\n\n    public PlayerAction translateActions(int player, GameState gs) {        \n        PhysicalGameState pgs = gs.getPhysicalGameState();\n        PlayerAction pa = new PlayerAction();\n        List<Pair<Unit, UnitAction>> desires = new ArrayList<>();\n\n        lastGameState = gs;\n        \n        // Execute abstract actions:\n        List<Unit> toDelete = new ArrayList<>();\n        ResourceUsage ru = new ResourceUsage();\n        for (AbstractAction aa : actions.values()) {\n            if (!pgs.getUnits().contains(aa.unit)) {\n                // The unit is dead:\n                toDelete.add(aa.unit);\n            } else {\n                if (aa.completed(gs)) {\n                    // the action is complete:\n                    toDelete.add(aa.unit);\n                } else {\n                    if (gs.getActionAssignment(aa.unit) == null) {\n                        UnitAction ua = aa.execute(gs, ru);\n                        if (ua != null) {\n                            if (VERIFY_ACTION_CORRECTNESS) {\n                                // verify that the action is actually feasible:\n                                List<UnitAction> ual = aa.unit.getUnitActions(gs);\n                                if (ual.contains(ua)) {\n                                    desires.add(new Pair<>(aa.unit, ua));\n                                }\n                            } else {\n                                desires.add(new Pair<>(aa.unit, ua));\n                            }\n                            ru.merge(ua.resourceUsage(aa.unit, pgs));\n                        }\n\n                    }\n                }\n            }\n        }\n        for (Unit u : toDelete) {\n            actions.remove(u);\n        }\n\n        // compose desires:\n        ResourceUsage r = gs.getResourceUsage();\n        pa.setResourceUsage(r);\n        for (Pair<Unit, UnitAction> desire : desires) {\n            ResourceUsage r2 = desire.m_b.resourceUsage(desire.m_a, pgs);\n            if (pa.consistentWith(r2, gs)) {\n                pa.addUnitAction(desire.m_a, desire.m_b);\n                pa.getResourceUsage().merge(r2);\n            }\n        }\n\n        pa.fillWithNones(gs, player, 10);\n        return pa;\n    }\n    ...\n    public int findBuildingPosition(List<Integer> reserved, int desiredX, int desiredY, Player p, PhysicalGameState pgs) {\n    ...\n    }\n}",
   "execution_count": null,
   "outputs": []
  },
  {
   "cell_type": "markdown",
   "source": "Zunächst sind einige neue Klassen in den Eigenschaften zu erkennen. Wie man sieht, bietet dieser Layer die Möglichkeiten **PathFinding-Algorithmen** einzubinden. Wie diese genau implementiert werden, wird im späteren Verlauf kurz gezeigt. Zu dieser Klasse reicht die Information, dass jede **„Highlevel-Aktion“** wenigstens A* nutzt. In MicroRTS sind folgende Highlevel-Aktionen definiert:\n\n\n1. move (x, y) \n2. train (type)\n3. build (type, x, y)\n4. harvest (target)\n5. attack (target)\nDiese Aktionen werden als einfache Funktionen definiert, die eine Hashmap füllen. Innerhalb dieser HashMap werden Units zusammen mit AbstractAction zusammengehalten. Die wichtigste Funktion in dieser Klasse ist die Funktion **public PlayerAction translateActions (int player, GameState gs)**, die man sich näher anschauen sollte. Einfach gesagt wird in dieser Funktion alle bereits ausgeführten Einheitenaktionen zu einer PlayerAction zusammengefasst. Innerhalb dieser Funktion wird auch execute genutzt. In dieser Klasse wird auch definiert, wie eine **Building-Position gesucht** wird. Dies ist der grobe Unit- & Aktionsaufbau von MicroRTS. Schauen wir uns anhand eines **expliziten Agenten** an, wie alle diese Klassen zusammenarbeiten.\n\n<br>\n<br>\n\n#### 3. Taktiken – Komplexere Agenten und dem Beginn von Strategie und Verhalten",
   "metadata": {
    "tags": [],
    "cell_id": "00016-562af3de-f5ca-421d-acef-66a440b97827",
    "deepnote_app_coordinates": {
     "x": 0,
     "y": 96,
     "w": 12,
     "h": 5
    },
    "deepnote_cell_type": "markdown"
   }
  },
  {
   "cell_type": "code",
   "metadata": {
    "tags": [],
    "cell_id": "00017-726ca1a0-db7e-4b97-a9de-05db65234ba2",
    "deepnote_app_coordinates": {
     "x": 0,
     "y": 102,
     "w": 12,
     "h": 5
    },
    "deepnote_cell_type": "code"
   },
   "source": "public class HeavyRush extends AbstractionLayerAI {\n    Random r = new Random();\n    protected UnitTypeTable utt;\n    UnitType workerType;\n    UnitType baseType;\n    UnitType barracksType;\n    UnitType heavyType;\n    ...\n    public HeavyRush(UnitTypeTable a_utt, PathFinding a_pf) {\n        super(a_pf);\n        reset(a_utt);\n    }\n    ...\n    public void reset(UnitTypeTable a_utt)  \n    {\n        utt = a_utt;\n        workerType = utt.getUnitType(\"Worker\");\n        baseType = utt.getUnitType(\"Base\");\n        barracksType = utt.getUnitType(\"Barracks\");\n        heavyType = utt.getUnitType(\"Heavy\");\n    }\n    ...\n    public PlayerAction getAction(int player, GameState gs) {\n        PhysicalGameState pgs = gs.getPhysicalGameState();\n        Player p = gs.getPlayer(player);\n        // behavior of bases:\n        for (Unit u : pgs.getUnits()) {\n            if (u.getType() == \n                    && u.getPlayer() == player\n                    && gs.getActionAssignment(u) == null) {\n                baseBehavior(u, p, pgs); // hier ist der Übergang zum expliziten Agenten\n            }\n        }\n\n        // behavior of barracks:\n        for (Unit u : pgs.getUnits()) {\n            if (u.getType() == barracksType\n                    && u.getPlayer() == player\n                    && gs.getActionAssignment(u) == null) {\n                barracksBehavior(u, p, pgs); // hier ist der Übergang zum expliziten Agenten\n            }\n        }\n\n        // behavior of melee units:\n        ...\n        return translateActions(player, gs);\n    }\n    ...\n        public void baseBehavior(Unit u, Player p, PhysicalGameState pgs) {\n        int nworkers = 0;\n        for (Unit u2 : pgs.getUnits()) {\n            if (u2.getType() == workerType\n                    && u2.getPlayer() == p.getID()) {\n                nworkers++;\n            }\n        }\n        if (nworkers < 1 && p.getResources() >= workerType.cost) {\n            train(u, workerType);\n        }\n    }\n\n    public void barracksBehavior(Unit u, Player p, PhysicalGameState pgs) {\n        if (p.getResources() >= heavyType.cost) {\n            train(u, heavyType);\n        }\n    }\n    ...\n}",
   "execution_count": null,
   "outputs": []
  },
  {
   "cell_type": "markdown",
   "source": "An diesen **komplexeren Agenten HeavyRush** kann man neben einigen Eigenschaften und den bereits oben genannten wichtigen Funktion getAction, weitere Funktionen mit dem Namen ...Behavoir erkennen. Zunächst **implementiert jeder komplexere Agent eine Taktik**. Zum Beispiel HeavyRush möchte so schnell wie möglich eine Baracke bauen und schwere Einheiten ausbilden, die direkt den Gegner angreifen sollen. Worker müssen dabei schnell die richtigen Gebäude bauen und den Spieler dauerhaft mit Ressourcen versorgen. Wie man bereits an den Eigenschaften erkennen kann, muss man **für die jeweilige Taktik die passenden UnitTypen vordefinieren** (werden meist auf UnitTypeTable gelesen). Wie der Agent **innerhalb der Taktik mit den verschiedenen UnitTypen** umgeht, wird in der **Behavior-Funktion** definiert. HeavyRush hat folgende Behavoir-Funktionen:\n\n\n\n1. void baseBehavior (Unit u, Player p, PhysicalGameState pgs), \n2. void barracksBehavior (Unit u, Player p, PhysicalGameState pgs), \n3. void meleeUnitBehavior (Unit u, Player p, GameState gs), \n4. void workersBehavior (List<Unit> workers, Player p, GameState gs)\n\nGenutzt werden diese Funktionen innerhalb der **Funktion PlayerAction getAction(int player, GameState gs)**. An dieser Stelle wird pro Behavior-Funktion jeweils eine for each Schleife programmiert. Die Funktion wird bei jedem Spielzyklus mit dem aktuellen Spielstand aufgerufen und gibt zurück, welche Aktion der Agent in diesem Zyklus ausführen will. Mithilfe dem **IF werden dabei nur die Units herausgezogen**, die für das jeweilige Verhalten gebraucht werden. Im ersten If werden die **Units durch den UnitType baseType aussortiert**. Am Ende der jeweiligen Schleifen wird in die **passende Behavior-Funktion gesprungen**. Sobald **alle Schleifen durch sind** , wird die Funktion **translateActions (player, gs) gecallt, die die Aktionen ausführt** und zu einer PlayerAction zusammenfasst.Schauen wir uns im nächsten Abschnitt die Klasse **GameState** genauer an.\n\n<br>\n<br>\n\n#### 4. Die Umgebung – Status und Eigenschaften von MicroRTS",
   "metadata": {
    "tags": [],
    "cell_id": "00018-aaa22fda-619e-45f5-bda1-da5bdfd99795",
    "deepnote_app_coordinates": {
     "x": 0,
     "y": 108,
     "w": 12,
     "h": 5
    },
    "deepnote_cell_type": "markdown"
   }
  },
  {
   "cell_type": "code",
   "metadata": {
    "tags": [],
    "cell_id": "00023-cb7559c6-8b81-4fb9-9471-83c9bf3ff032",
    "deepnote_app_coordinates": {
     "x": 0,
     "y": 138,
     "w": 12,
     "h": 5
    },
    "deepnote_cell_type": "code"
   },
   "source": "public class GameState {\n...\nprotected int time = 0;\nprotected UnitTypeTable utt;\nprotected PhysicalGameState pgs;\nprotected HashMap<Unit,UnitActionAssignment> unitActions = new LinkedHashMap<>();\nprotected UnitTypeTable utt;\n...\npublic boolean free(int x, int y){\n    ...\n}\npublic boolean[][] getAllFree() {\n    ...\n}\n...\npublic boolean canExecuteAnyAction(int pID) {\n        for(Unit u : pgs.getUnits()) {\n            if (u.getPlayer() == pID) {\n                if (unitActions.get(u) == null) return true;\n            }\n        }\n        return false;\n}\n\npublic boolean isUnitActionAllowed(Unit u, UnitAction ua) {\n...\n// Generate the reserved resources:\n...\n}\n...\npublic boolean cycle() {\n        time++;\n        \n        List<UnitActionAssignment> readyToExecute = new LinkedList<>();\n        for(UnitActionAssignment uaa:unitActions.values()) {\n            if (uaa.action.ETA(uaa.unit)+uaa.time<=time) readyToExecute.add(uaa);\n        }\n                \n        // execute the actions:\n        for(UnitActionAssignment uaa:readyToExecute) {\n            unitActions.remove(uaa.unit);  \n            uaa.action.execute(uaa.unit,this);\n        }\n        \n        return gameover();\n}\n...\npublic boolean integrityCheck() {\n    ...\n}\n...\n}\n",
   "execution_count": null,
   "outputs": []
  },
  {
   "cell_type": "markdown",
   "source": "Der **GameState** besteht dabei aus **mehreren Teilen**. Der erste kleine Teil ist die Eigenschaft **int time**, die für ein **Echtzeit**strategiespiel notwendig ist.  Bei MircoRTS zeigt dieser Wert an, **wie viele Zyklen seit Beginn des Spiels vergangen sind**. Ein weiterer Wert ist das **UnitTypeTable**, das die Eigenschaften von Einheiten dieses Spieles speichert. Zwei Methoden, die in den Aktionen öfters genutzt werden, sind free und getAllfree. Mit den Hilfe dieser Funktionen getAllFree wird geschaut, ob sich Einheiten an der angegebenen Position befinden und keine Einheit eine Aktion durchführt, die diese Position nutzt. Zusätzlich werden mit **boolean isUnitActionAllowed (Unit u, UnitAction ua) und boolean canExecuteAnyAction (int pID) die Aktionen kontrolliert**. Die erste Funktion prüft, ob die vorgesehene UnitAction Konflikte mit einer anderen Action hat. Sie geht davon aus, dass die UnitAction ua gültig ist (d.h. eine der Aktionen, die die Unit potenziell ausführen kann). Die zweite Funktion hingegen prüft, ob ein Spieler in diesem Zustand eine Aktion ausführen kann. Um die Aktionen mit den Einheiten für den GameState aufzubereiten, speichert **UnitActionAssignment** die Einheiten mit der Zeit, die eine zugewiesene Aktion braucht.  Zuletzt ist die Funktion **boolean cycle ()** zuständig einen Spielzyklus und alle zugewiesenen Aktionen auszuführen. Viele weitere Funktionen werden für komplexere Techniken, wie zum Beispiel getPlayerActionsSingleUnit (Unit unit), bei UCT genutzt.  Als letzten Teil werden Eigenschaften der physikalischen Welt in einer weiteren Klasse gekapselt.",
   "metadata": {
    "tags": [],
    "cell_id": "00024-4ef23d24-9c35-42f4-896f-2b2854824386",
    "deepnote_app_coordinates": {
     "x": 0,
     "y": 144,
     "w": 12,
     "h": 5
    },
    "deepnote_cell_type": "markdown"
   }
  },
  {
   "cell_type": "code",
   "metadata": {
    "tags": [],
    "cell_id": "00025-9a6383e9-a7af-4a8c-b417-473d8b64ef11",
    "deepnote_app_coordinates": {
     "x": 0,
     "y": 150,
     "w": 12,
     "h": 5
    },
    "deepnote_cell_type": "code"
   },
   "source": "public class PhysicalGameState {\n    public static final int TERRAIN_NONE = 0; //free tile\n    public static final int TERRAIN_WALL = 1; // blocked til\n    int width = 8;\n    int height = 8;\n    int terrain[];\n    List<Player> players = new ArrayList<>();\n    List<Unit> units = new LinkedList<>();\n    ...\n\n    public PhysicalGameState(int a_width, int a_height) {\n        width = a_width;\n        height = a_height;\n        terrain = new int[width * height];\n    }\n\n    public void addUnit(Unit newUnit) throws IllegalArgumentException {\n        for (Unit existingUnit : units) {\n            if (newUnit.getX() == existingUnit.getX() && newUnit.getY() == existingUnit.getY()) {\n                throw new IllegalArgumentException(\n                        \"PhysicalGameState.addUnit: added two units in position: (\" + newUnit.getX() + \", \" + newUnit.getY() + \")\");\n            }\n        }\n        units.add(newUnit);\n    }\n\n    public void removeUnit(Unit u) {\n        units.remove(u);\n    }\n    ...\n    //sind in der Klasse ausprogrammiert!\n    public boolean equivalents(PhysicalGameState pgs);\n    public Unit getUnitAt(int x, int y);\n    public boolean[][] getAllFree();\n    public int winner();\n    boolean gameover();\n    public Collection<Unit> getUnitsAround(int x, int y, int squareRange);\n    public Collection<Unit> getUnitsAround(int x, int y, int width, int height);\n    public Collection<Unit> getUnitsInRectangle(int x, int y, int width, int height);\n    ...\n\n}",
   "execution_count": null,
   "outputs": []
  },
  {
   "cell_type": "markdown",
   "source": "**PhysicalGameState** hält **die physikalischen Grenzen der Map** und die **Units, die auf der Map sind**. Wie groß diese Map ist, wird in dieser Klasse im Konstruktor definiert. Zudem weiß die Klasse, welche Spieler spielen. Damit implementiert sie auch die Funktionalität von winner () und gameover (), da diese Zustände Abhängig sind, ob die Spieler jeweils mindestens noch ein Spieler eine Unit auf dem Feld besitzen. Auch die Funktionalität, ob ein Feld frei oder bereits von einer anderen Unit besetzt wird, wird in dieser Klasse gekapselt. Weiterhin bietet die Klasse: \n\n1. Unit getUnitAt (int x, int y)\n2. Collection<Unit> getUnitsAround (int x, int y, int squareRange) \n3. Collection<Unit> getUnitsInRectangle (int x, int y, int width, int height)\n\nMithilfe dieser Funktionen können **auf der Karte alle Einheiten in einem bestimmten Rechteck , oder Dreieck, wo im Zentrum die x und y Koordinate liegt, erfasst werden**. Diese Funktionen **helfen den Agenten später, die direkte Umgebung seiner Einheiten besser zu kennen, und damit analysieren zu können**. Wie eine neue Unit hinzugefügt oder eine besiegte entfernt werden soll wird auch in dieser Klasse definiert. Weiterhin gibt es auch einige clone () und equals () Funktionen, die unter anderem definieren wie ein Agent kopiert wird und wie GameStates miteinander verglichen werden. Zusätzlich sind große Mengen von XML und JSON bearbeitende Funktionen in dieser Klasse vertreten.\n\n<br>\nÜbergang zu 5 ???\n<br>\n<br>\n\n#### 5. Den Weg finden – PathFinding – Algorithmen\n#### 6. Jetzt alles zusammen – sehr komplexe Agenten zusammen mit PPO\n#### 7. Noch mehr Agenten – sehr komplexe Agenten mit verschiedener Algorithmik\n",
   "metadata": {
    "tags": [],
    "cell_id": "00026-2a25a6f0-93dd-430e-82a8-05ef6307ac61",
    "deepnote_app_coordinates": {
     "x": 0,
     "y": 156,
     "w": 12,
     "h": 5
    },
    "deepnote_cell_type": "markdown"
   }
  },
  {
   "cell_type": "code",
   "metadata": {
    "tags": [],
    "cell_id": "00027-6ecef732-d6ea-45c0-8009-8f9667886b2a",
    "deepnote_app_coordinates": {
     "x": 0,
     "y": 162,
     "w": 12,
     "h": 5
    },
    "deepnote_cell_type": "code"
   },
   "source": "",
   "execution_count": null,
   "outputs": []
  },
  {
   "cell_type": "markdown",
   "source": "",
   "metadata": {
    "tags": [],
    "cell_id": "00028-f6900e32-bd2b-40a5-b40f-0a2a5e45bedd",
    "deepnote_app_coordinates": {
     "x": 0,
     "y": 168,
     "w": 12,
     "h": 5
    },
    "deepnote_cell_type": "markdown"
   }
  },
  {
   "cell_type": "markdown",
   "source": "Quelle des Codes : https://github.com/santiontanon/microrts",
   "metadata": {
    "tags": [],
    "cell_id": "00029-9322043c-c684-4e19-adb8-ca50c102b85c",
    "deepnote_cell_type": "markdown"
   }
  },
  {
   "cell_type": "markdown",
   "source": "<a style='text-decoration:none;line-height:16px;display:flex;color:#5B5B62;padding:10px;justify-content:end;' href='https://deepnote.com?utm_source=created-in-deepnote-cell&projectId=9ce75853-4372-4d76-b47c-34c3ad90a24b' target=\"_blank\">\n<img alt='Created in deepnote.com' style='display:inline;max-height:16px;margin:0px;margin-right:7.5px;' src='data:image/svg+xml;base64,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' > </img>\nCreated in <span style='font-weight:600;margin-left:4px;'>Deepnote</span></a>",
   "metadata": {
    "tags": [],
    "created_in_deepnote_cell": true,
    "deepnote_cell_type": "markdown"
   }
  }
 ],
 "nbformat": 4,
 "nbformat_minor": 2,
 "metadata": {
  "orig_nbformat": 2,
  "deepnote": {
   "is_reactive": false
  },
  "deepnote_notebook_id": "bb6027ea-0a76-42b5-ab88-b8bceaf7cc1b",
  "deepnote_execution_queue": [],
  "deepnote_app_layout": "article"
 }
}